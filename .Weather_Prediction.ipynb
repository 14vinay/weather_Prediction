{
 "cells": [
  {
   "cell_type": "code",
   "execution_count": 189,
   "id": "15d62eb3",
   "metadata": {},
   "outputs": [],
   "source": [
    "import pandas as pd"
   ]
  },
  {
   "cell_type": "code",
   "execution_count": 190,
   "id": "890a6662",
   "metadata": {},
   "outputs": [
    {
     "data": {
      "text/html": [
       "<div>\n",
       "<style scoped>\n",
       "    .dataframe tbody tr th:only-of-type {\n",
       "        vertical-align: middle;\n",
       "    }\n",
       "\n",
       "    .dataframe tbody tr th {\n",
       "        vertical-align: top;\n",
       "    }\n",
       "\n",
       "    .dataframe thead th {\n",
       "        text-align: right;\n",
       "    }\n",
       "</style>\n",
       "<table border=\"1\" class=\"dataframe\">\n",
       "  <thead>\n",
       "    <tr style=\"text-align: right;\">\n",
       "      <th></th>\n",
       "      <th>STATION</th>\n",
       "      <th>NAME</th>\n",
       "      <th>ACMH</th>\n",
       "      <th>ACSH</th>\n",
       "      <th>AWND</th>\n",
       "      <th>DAPR</th>\n",
       "      <th>FMTM</th>\n",
       "      <th>FRGT</th>\n",
       "      <th>MDPR</th>\n",
       "      <th>PGTM</th>\n",
       "      <th>...</th>\n",
       "      <th>WT01</th>\n",
       "      <th>WT02</th>\n",
       "      <th>WT03</th>\n",
       "      <th>WT04</th>\n",
       "      <th>WT05</th>\n",
       "      <th>WT07</th>\n",
       "      <th>WT08</th>\n",
       "      <th>WT09</th>\n",
       "      <th>WT16</th>\n",
       "      <th>WT18</th>\n",
       "    </tr>\n",
       "    <tr>\n",
       "      <th>DATE</th>\n",
       "      <th></th>\n",
       "      <th></th>\n",
       "      <th></th>\n",
       "      <th></th>\n",
       "      <th></th>\n",
       "      <th></th>\n",
       "      <th></th>\n",
       "      <th></th>\n",
       "      <th></th>\n",
       "      <th></th>\n",
       "      <th></th>\n",
       "      <th></th>\n",
       "      <th></th>\n",
       "      <th></th>\n",
       "      <th></th>\n",
       "      <th></th>\n",
       "      <th></th>\n",
       "      <th></th>\n",
       "      <th></th>\n",
       "      <th></th>\n",
       "      <th></th>\n",
       "    </tr>\n",
       "  </thead>\n",
       "  <tbody>\n",
       "    <tr>\n",
       "      <th>1960-01-01</th>\n",
       "      <td>USW00023230</td>\n",
       "      <td>OAKLAND INTERNATIONAL AIRPORT, CA US</td>\n",
       "      <td>NaN</td>\n",
       "      <td>NaN</td>\n",
       "      <td>NaN</td>\n",
       "      <td>NaN</td>\n",
       "      <td>NaN</td>\n",
       "      <td>NaN</td>\n",
       "      <td>NaN</td>\n",
       "      <td>NaN</td>\n",
       "      <td>...</td>\n",
       "      <td>NaN</td>\n",
       "      <td>NaN</td>\n",
       "      <td>NaN</td>\n",
       "      <td>NaN</td>\n",
       "      <td>NaN</td>\n",
       "      <td>NaN</td>\n",
       "      <td>NaN</td>\n",
       "      <td>NaN</td>\n",
       "      <td>NaN</td>\n",
       "      <td>NaN</td>\n",
       "    </tr>\n",
       "    <tr>\n",
       "      <th>1960-01-02</th>\n",
       "      <td>USW00023230</td>\n",
       "      <td>OAKLAND INTERNATIONAL AIRPORT, CA US</td>\n",
       "      <td>NaN</td>\n",
       "      <td>NaN</td>\n",
       "      <td>NaN</td>\n",
       "      <td>NaN</td>\n",
       "      <td>NaN</td>\n",
       "      <td>NaN</td>\n",
       "      <td>NaN</td>\n",
       "      <td>NaN</td>\n",
       "      <td>...</td>\n",
       "      <td>NaN</td>\n",
       "      <td>NaN</td>\n",
       "      <td>NaN</td>\n",
       "      <td>NaN</td>\n",
       "      <td>NaN</td>\n",
       "      <td>NaN</td>\n",
       "      <td>NaN</td>\n",
       "      <td>NaN</td>\n",
       "      <td>1.0</td>\n",
       "      <td>NaN</td>\n",
       "    </tr>\n",
       "    <tr>\n",
       "      <th>1960-01-03</th>\n",
       "      <td>USW00023230</td>\n",
       "      <td>OAKLAND INTERNATIONAL AIRPORT, CA US</td>\n",
       "      <td>NaN</td>\n",
       "      <td>NaN</td>\n",
       "      <td>NaN</td>\n",
       "      <td>NaN</td>\n",
       "      <td>NaN</td>\n",
       "      <td>NaN</td>\n",
       "      <td>NaN</td>\n",
       "      <td>NaN</td>\n",
       "      <td>...</td>\n",
       "      <td>NaN</td>\n",
       "      <td>NaN</td>\n",
       "      <td>NaN</td>\n",
       "      <td>NaN</td>\n",
       "      <td>NaN</td>\n",
       "      <td>NaN</td>\n",
       "      <td>NaN</td>\n",
       "      <td>NaN</td>\n",
       "      <td>NaN</td>\n",
       "      <td>NaN</td>\n",
       "    </tr>\n",
       "    <tr>\n",
       "      <th>1960-01-04</th>\n",
       "      <td>USW00023230</td>\n",
       "      <td>OAKLAND INTERNATIONAL AIRPORT, CA US</td>\n",
       "      <td>NaN</td>\n",
       "      <td>NaN</td>\n",
       "      <td>NaN</td>\n",
       "      <td>NaN</td>\n",
       "      <td>NaN</td>\n",
       "      <td>NaN</td>\n",
       "      <td>NaN</td>\n",
       "      <td>NaN</td>\n",
       "      <td>...</td>\n",
       "      <td>NaN</td>\n",
       "      <td>NaN</td>\n",
       "      <td>NaN</td>\n",
       "      <td>NaN</td>\n",
       "      <td>NaN</td>\n",
       "      <td>NaN</td>\n",
       "      <td>NaN</td>\n",
       "      <td>NaN</td>\n",
       "      <td>NaN</td>\n",
       "      <td>NaN</td>\n",
       "    </tr>\n",
       "    <tr>\n",
       "      <th>1960-01-05</th>\n",
       "      <td>USW00023230</td>\n",
       "      <td>OAKLAND INTERNATIONAL AIRPORT, CA US</td>\n",
       "      <td>NaN</td>\n",
       "      <td>NaN</td>\n",
       "      <td>NaN</td>\n",
       "      <td>NaN</td>\n",
       "      <td>NaN</td>\n",
       "      <td>NaN</td>\n",
       "      <td>NaN</td>\n",
       "      <td>NaN</td>\n",
       "      <td>...</td>\n",
       "      <td>1.0</td>\n",
       "      <td>NaN</td>\n",
       "      <td>NaN</td>\n",
       "      <td>NaN</td>\n",
       "      <td>NaN</td>\n",
       "      <td>NaN</td>\n",
       "      <td>1.0</td>\n",
       "      <td>NaN</td>\n",
       "      <td>NaN</td>\n",
       "      <td>NaN</td>\n",
       "    </tr>\n",
       "    <tr>\n",
       "      <th>...</th>\n",
       "      <td>...</td>\n",
       "      <td>...</td>\n",
       "      <td>...</td>\n",
       "      <td>...</td>\n",
       "      <td>...</td>\n",
       "      <td>...</td>\n",
       "      <td>...</td>\n",
       "      <td>...</td>\n",
       "      <td>...</td>\n",
       "      <td>...</td>\n",
       "      <td>...</td>\n",
       "      <td>...</td>\n",
       "      <td>...</td>\n",
       "      <td>...</td>\n",
       "      <td>...</td>\n",
       "      <td>...</td>\n",
       "      <td>...</td>\n",
       "      <td>...</td>\n",
       "      <td>...</td>\n",
       "      <td>...</td>\n",
       "      <td>...</td>\n",
       "    </tr>\n",
       "    <tr>\n",
       "      <th>2021-12-27</th>\n",
       "      <td>USW00023230</td>\n",
       "      <td>OAKLAND INTERNATIONAL AIRPORT, CA US</td>\n",
       "      <td>NaN</td>\n",
       "      <td>NaN</td>\n",
       "      <td>14.76</td>\n",
       "      <td>NaN</td>\n",
       "      <td>NaN</td>\n",
       "      <td>NaN</td>\n",
       "      <td>NaN</td>\n",
       "      <td>NaN</td>\n",
       "      <td>...</td>\n",
       "      <td>1.0</td>\n",
       "      <td>NaN</td>\n",
       "      <td>NaN</td>\n",
       "      <td>NaN</td>\n",
       "      <td>NaN</td>\n",
       "      <td>NaN</td>\n",
       "      <td>1.0</td>\n",
       "      <td>NaN</td>\n",
       "      <td>NaN</td>\n",
       "      <td>NaN</td>\n",
       "    </tr>\n",
       "    <tr>\n",
       "      <th>2021-12-28</th>\n",
       "      <td>USW00023230</td>\n",
       "      <td>OAKLAND INTERNATIONAL AIRPORT, CA US</td>\n",
       "      <td>NaN</td>\n",
       "      <td>NaN</td>\n",
       "      <td>6.71</td>\n",
       "      <td>NaN</td>\n",
       "      <td>NaN</td>\n",
       "      <td>NaN</td>\n",
       "      <td>NaN</td>\n",
       "      <td>NaN</td>\n",
       "      <td>...</td>\n",
       "      <td>NaN</td>\n",
       "      <td>NaN</td>\n",
       "      <td>NaN</td>\n",
       "      <td>NaN</td>\n",
       "      <td>NaN</td>\n",
       "      <td>NaN</td>\n",
       "      <td>NaN</td>\n",
       "      <td>NaN</td>\n",
       "      <td>NaN</td>\n",
       "      <td>NaN</td>\n",
       "    </tr>\n",
       "    <tr>\n",
       "      <th>2021-12-29</th>\n",
       "      <td>USW00023230</td>\n",
       "      <td>OAKLAND INTERNATIONAL AIRPORT, CA US</td>\n",
       "      <td>NaN</td>\n",
       "      <td>NaN</td>\n",
       "      <td>10.07</td>\n",
       "      <td>NaN</td>\n",
       "      <td>NaN</td>\n",
       "      <td>NaN</td>\n",
       "      <td>NaN</td>\n",
       "      <td>NaN</td>\n",
       "      <td>...</td>\n",
       "      <td>1.0</td>\n",
       "      <td>NaN</td>\n",
       "      <td>NaN</td>\n",
       "      <td>NaN</td>\n",
       "      <td>NaN</td>\n",
       "      <td>NaN</td>\n",
       "      <td>NaN</td>\n",
       "      <td>NaN</td>\n",
       "      <td>NaN</td>\n",
       "      <td>NaN</td>\n",
       "    </tr>\n",
       "    <tr>\n",
       "      <th>2021-12-30</th>\n",
       "      <td>USW00023230</td>\n",
       "      <td>OAKLAND INTERNATIONAL AIRPORT, CA US</td>\n",
       "      <td>NaN</td>\n",
       "      <td>NaN</td>\n",
       "      <td>5.14</td>\n",
       "      <td>NaN</td>\n",
       "      <td>NaN</td>\n",
       "      <td>NaN</td>\n",
       "      <td>NaN</td>\n",
       "      <td>NaN</td>\n",
       "      <td>...</td>\n",
       "      <td>NaN</td>\n",
       "      <td>NaN</td>\n",
       "      <td>NaN</td>\n",
       "      <td>NaN</td>\n",
       "      <td>NaN</td>\n",
       "      <td>NaN</td>\n",
       "      <td>NaN</td>\n",
       "      <td>NaN</td>\n",
       "      <td>NaN</td>\n",
       "      <td>NaN</td>\n",
       "    </tr>\n",
       "    <tr>\n",
       "      <th>2021-12-31</th>\n",
       "      <td>USW00023230</td>\n",
       "      <td>OAKLAND INTERNATIONAL AIRPORT, CA US</td>\n",
       "      <td>NaN</td>\n",
       "      <td>NaN</td>\n",
       "      <td>6.93</td>\n",
       "      <td>NaN</td>\n",
       "      <td>NaN</td>\n",
       "      <td>NaN</td>\n",
       "      <td>NaN</td>\n",
       "      <td>NaN</td>\n",
       "      <td>...</td>\n",
       "      <td>NaN</td>\n",
       "      <td>NaN</td>\n",
       "      <td>NaN</td>\n",
       "      <td>NaN</td>\n",
       "      <td>NaN</td>\n",
       "      <td>NaN</td>\n",
       "      <td>NaN</td>\n",
       "      <td>NaN</td>\n",
       "      <td>NaN</td>\n",
       "      <td>NaN</td>\n",
       "    </tr>\n",
       "  </tbody>\n",
       "</table>\n",
       "<p>16832 rows × 35 columns</p>\n",
       "</div>"
      ],
      "text/plain": [
       "                STATION                                  NAME  ACMH  ACSH  \\\n",
       "DATE                                                                        \n",
       "1960-01-01  USW00023230  OAKLAND INTERNATIONAL AIRPORT, CA US   NaN   NaN   \n",
       "1960-01-02  USW00023230  OAKLAND INTERNATIONAL AIRPORT, CA US   NaN   NaN   \n",
       "1960-01-03  USW00023230  OAKLAND INTERNATIONAL AIRPORT, CA US   NaN   NaN   \n",
       "1960-01-04  USW00023230  OAKLAND INTERNATIONAL AIRPORT, CA US   NaN   NaN   \n",
       "1960-01-05  USW00023230  OAKLAND INTERNATIONAL AIRPORT, CA US   NaN   NaN   \n",
       "...                 ...                                   ...   ...   ...   \n",
       "2021-12-27  USW00023230  OAKLAND INTERNATIONAL AIRPORT, CA US   NaN   NaN   \n",
       "2021-12-28  USW00023230  OAKLAND INTERNATIONAL AIRPORT, CA US   NaN   NaN   \n",
       "2021-12-29  USW00023230  OAKLAND INTERNATIONAL AIRPORT, CA US   NaN   NaN   \n",
       "2021-12-30  USW00023230  OAKLAND INTERNATIONAL AIRPORT, CA US   NaN   NaN   \n",
       "2021-12-31  USW00023230  OAKLAND INTERNATIONAL AIRPORT, CA US   NaN   NaN   \n",
       "\n",
       "             AWND  DAPR  FMTM  FRGT  MDPR  PGTM  ...  WT01  WT02  WT03  WT04  \\\n",
       "DATE                                             ...                           \n",
       "1960-01-01    NaN   NaN   NaN   NaN   NaN   NaN  ...   NaN   NaN   NaN   NaN   \n",
       "1960-01-02    NaN   NaN   NaN   NaN   NaN   NaN  ...   NaN   NaN   NaN   NaN   \n",
       "1960-01-03    NaN   NaN   NaN   NaN   NaN   NaN  ...   NaN   NaN   NaN   NaN   \n",
       "1960-01-04    NaN   NaN   NaN   NaN   NaN   NaN  ...   NaN   NaN   NaN   NaN   \n",
       "1960-01-05    NaN   NaN   NaN   NaN   NaN   NaN  ...   1.0   NaN   NaN   NaN   \n",
       "...           ...   ...   ...   ...   ...   ...  ...   ...   ...   ...   ...   \n",
       "2021-12-27  14.76   NaN   NaN   NaN   NaN   NaN  ...   1.0   NaN   NaN   NaN   \n",
       "2021-12-28   6.71   NaN   NaN   NaN   NaN   NaN  ...   NaN   NaN   NaN   NaN   \n",
       "2021-12-29  10.07   NaN   NaN   NaN   NaN   NaN  ...   1.0   NaN   NaN   NaN   \n",
       "2021-12-30   5.14   NaN   NaN   NaN   NaN   NaN  ...   NaN   NaN   NaN   NaN   \n",
       "2021-12-31   6.93   NaN   NaN   NaN   NaN   NaN  ...   NaN   NaN   NaN   NaN   \n",
       "\n",
       "            WT05  WT07  WT08  WT09  WT16  WT18  \n",
       "DATE                                            \n",
       "1960-01-01   NaN   NaN   NaN   NaN   NaN   NaN  \n",
       "1960-01-02   NaN   NaN   NaN   NaN   1.0   NaN  \n",
       "1960-01-03   NaN   NaN   NaN   NaN   NaN   NaN  \n",
       "1960-01-04   NaN   NaN   NaN   NaN   NaN   NaN  \n",
       "1960-01-05   NaN   NaN   1.0   NaN   NaN   NaN  \n",
       "...          ...   ...   ...   ...   ...   ...  \n",
       "2021-12-27   NaN   NaN   1.0   NaN   NaN   NaN  \n",
       "2021-12-28   NaN   NaN   NaN   NaN   NaN   NaN  \n",
       "2021-12-29   NaN   NaN   NaN   NaN   NaN   NaN  \n",
       "2021-12-30   NaN   NaN   NaN   NaN   NaN   NaN  \n",
       "2021-12-31   NaN   NaN   NaN   NaN   NaN   NaN  \n",
       "\n",
       "[16832 rows x 35 columns]"
      ]
     },
     "execution_count": 190,
     "metadata": {},
     "output_type": "execute_result"
    }
   ],
   "source": [
    "weather=pd.read_csv(\"local_weather.csv\", index_col =\"DATE\" )\n",
    "weather"
   ]
  },
  {
   "cell_type": "code",
   "execution_count": 191,
   "id": "715f5ab0",
   "metadata": {},
   "outputs": [
    {
     "data": {
      "text/plain": [
       "STATION        0\n",
       "NAME           0\n",
       "ACMH       10988\n",
       "ACSH       10988\n",
       "AWND        8807\n",
       "DAPR       16824\n",
       "FMTM       14642\n",
       "FRGT       16830\n",
       "MDPR       16824\n",
       "PGTM        8321\n",
       "PRCP         281\n",
       "SNOW        5452\n",
       "SNWD        5328\n",
       "TAVG       14795\n",
       "TMAX           9\n",
       "TMIN          10\n",
       "TSUN       15681\n",
       "WDF1       10988\n",
       "WDF2        8806\n",
       "WDF5        8893\n",
       "WDFG       12565\n",
       "WSF1       10988\n",
       "WSF2        8805\n",
       "WSF5        8893\n",
       "WSFG       12565\n",
       "WT01       13142\n",
       "WT02       16501\n",
       "WT03       16713\n",
       "WT04       16828\n",
       "WT05       16804\n",
       "WT07       16830\n",
       "WT08       13641\n",
       "WT09       16830\n",
       "WT16       14877\n",
       "WT18       16829\n",
       "dtype: int64"
      ]
     },
     "execution_count": 191,
     "metadata": {},
     "output_type": "execute_result"
    }
   ],
   "source": [
    "# finding null values in the column\n",
    "weather.apply(pd.isnull).sum()"
   ]
  },
  {
   "cell_type": "code",
   "execution_count": 192,
   "id": "692d6cce",
   "metadata": {},
   "outputs": [
    {
     "data": {
      "text/html": [
       "<div>\n",
       "<style scoped>\n",
       "    .dataframe tbody tr th:only-of-type {\n",
       "        vertical-align: middle;\n",
       "    }\n",
       "\n",
       "    .dataframe tbody tr th {\n",
       "        vertical-align: top;\n",
       "    }\n",
       "\n",
       "    .dataframe thead th {\n",
       "        text-align: right;\n",
       "    }\n",
       "</style>\n",
       "<table border=\"1\" class=\"dataframe\">\n",
       "  <thead>\n",
       "    <tr style=\"text-align: right;\">\n",
       "      <th></th>\n",
       "      <th>PRCP</th>\n",
       "      <th>SNOW</th>\n",
       "      <th>SNWD</th>\n",
       "      <th>TMAX</th>\n",
       "      <th>TMIN</th>\n",
       "    </tr>\n",
       "    <tr>\n",
       "      <th>DATE</th>\n",
       "      <th></th>\n",
       "      <th></th>\n",
       "      <th></th>\n",
       "      <th></th>\n",
       "      <th></th>\n",
       "    </tr>\n",
       "  </thead>\n",
       "  <tbody>\n",
       "    <tr>\n",
       "      <th>1960-01-01</th>\n",
       "      <td>0.00</td>\n",
       "      <td>0.0</td>\n",
       "      <td>0.0</td>\n",
       "      <td>49.0</td>\n",
       "      <td>30.0</td>\n",
       "    </tr>\n",
       "    <tr>\n",
       "      <th>1960-01-02</th>\n",
       "      <td>0.00</td>\n",
       "      <td>0.0</td>\n",
       "      <td>0.0</td>\n",
       "      <td>49.0</td>\n",
       "      <td>29.0</td>\n",
       "    </tr>\n",
       "    <tr>\n",
       "      <th>1960-01-03</th>\n",
       "      <td>0.00</td>\n",
       "      <td>0.0</td>\n",
       "      <td>0.0</td>\n",
       "      <td>54.0</td>\n",
       "      <td>35.0</td>\n",
       "    </tr>\n",
       "    <tr>\n",
       "      <th>1960-01-04</th>\n",
       "      <td>0.00</td>\n",
       "      <td>0.0</td>\n",
       "      <td>0.0</td>\n",
       "      <td>54.0</td>\n",
       "      <td>36.0</td>\n",
       "    </tr>\n",
       "    <tr>\n",
       "      <th>1960-01-05</th>\n",
       "      <td>0.00</td>\n",
       "      <td>0.0</td>\n",
       "      <td>0.0</td>\n",
       "      <td>55.0</td>\n",
       "      <td>33.0</td>\n",
       "    </tr>\n",
       "    <tr>\n",
       "      <th>...</th>\n",
       "      <td>...</td>\n",
       "      <td>...</td>\n",
       "      <td>...</td>\n",
       "      <td>...</td>\n",
       "      <td>...</td>\n",
       "    </tr>\n",
       "    <tr>\n",
       "      <th>2021-12-27</th>\n",
       "      <td>0.09</td>\n",
       "      <td>NaN</td>\n",
       "      <td>NaN</td>\n",
       "      <td>51.0</td>\n",
       "      <td>44.0</td>\n",
       "    </tr>\n",
       "    <tr>\n",
       "      <th>2021-12-28</th>\n",
       "      <td>0.01</td>\n",
       "      <td>NaN</td>\n",
       "      <td>NaN</td>\n",
       "      <td>48.0</td>\n",
       "      <td>41.0</td>\n",
       "    </tr>\n",
       "    <tr>\n",
       "      <th>2021-12-29</th>\n",
       "      <td>0.51</td>\n",
       "      <td>NaN</td>\n",
       "      <td>NaN</td>\n",
       "      <td>51.0</td>\n",
       "      <td>43.0</td>\n",
       "    </tr>\n",
       "    <tr>\n",
       "      <th>2021-12-30</th>\n",
       "      <td>0.00</td>\n",
       "      <td>NaN</td>\n",
       "      <td>NaN</td>\n",
       "      <td>52.0</td>\n",
       "      <td>40.0</td>\n",
       "    </tr>\n",
       "    <tr>\n",
       "      <th>2021-12-31</th>\n",
       "      <td>0.00</td>\n",
       "      <td>NaN</td>\n",
       "      <td>NaN</td>\n",
       "      <td>53.0</td>\n",
       "      <td>36.0</td>\n",
       "    </tr>\n",
       "  </tbody>\n",
       "</table>\n",
       "<p>16832 rows × 5 columns</p>\n",
       "</div>"
      ],
      "text/plain": [
       "            PRCP  SNOW  SNWD  TMAX  TMIN\n",
       "DATE                                    \n",
       "1960-01-01  0.00   0.0   0.0  49.0  30.0\n",
       "1960-01-02  0.00   0.0   0.0  49.0  29.0\n",
       "1960-01-03  0.00   0.0   0.0  54.0  35.0\n",
       "1960-01-04  0.00   0.0   0.0  54.0  36.0\n",
       "1960-01-05  0.00   0.0   0.0  55.0  33.0\n",
       "...          ...   ...   ...   ...   ...\n",
       "2021-12-27  0.09   NaN   NaN  51.0  44.0\n",
       "2021-12-28  0.01   NaN   NaN  48.0  41.0\n",
       "2021-12-29  0.51   NaN   NaN  51.0  43.0\n",
       "2021-12-30  0.00   NaN   NaN  52.0  40.0\n",
       "2021-12-31  0.00   NaN   NaN  53.0  36.0\n",
       "\n",
       "[16832 rows x 5 columns]"
      ]
     },
     "execution_count": 192,
     "metadata": {},
     "output_type": "execute_result"
    }
   ],
   "source": [
    "# we take the important column \n",
    "imp_weather = weather[[\"PRCP\",\"SNOW\",\"SNWD\",\"TMAX\",\"TMIN\"]].copy()\n",
    "imp_weather"
   ]
  },
  {
   "cell_type": "code",
   "execution_count": 193,
   "id": "7930d0bb",
   "metadata": {},
   "outputs": [
    {
     "data": {
      "text/plain": [
       "PRCP     281\n",
       "SNOW    5452\n",
       "SNWD    5328\n",
       "TMAX       9\n",
       "TMIN      10\n",
       "dtype: int64"
      ]
     },
     "execution_count": 193,
     "metadata": {},
     "output_type": "execute_result"
    }
   ],
   "source": [
    "# Now checking the Null values in the important columns\n",
    "imp_weather.apply(pd.isnull).sum()"
   ]
  },
  {
   "cell_type": "markdown",
   "id": "48cd9845",
   "metadata": {},
   "source": [
    "Checking the values in the each column"
   ]
  },
  {
   "cell_type": "code",
   "execution_count": 194,
   "id": "c21b1058",
   "metadata": {},
   "outputs": [
    {
     "data": {
      "text/plain": [
       "0.0    11379\n",
       "1.0        1\n",
       "Name: SNOW, dtype: int64"
      ]
     },
     "execution_count": 194,
     "metadata": {},
     "output_type": "execute_result"
    }
   ],
   "source": [
    "imp_weather[\"SNOW\"].value_counts()"
   ]
  },
  {
   "cell_type": "code",
   "execution_count": 195,
   "id": "fe3322e0",
   "metadata": {},
   "outputs": [
    {
     "data": {
      "text/plain": [
       "0.0    11504\n",
       "Name: SNWD, dtype: int64"
      ]
     },
     "execution_count": 195,
     "metadata": {},
     "output_type": "execute_result"
    }
   ],
   "source": [
    "imp_weather[\"SNWD\"].value_counts()"
   ]
  },
  {
   "cell_type": "code",
   "execution_count": 196,
   "id": "5f0b044c",
   "metadata": {},
   "outputs": [
    {
     "data": {
      "text/plain": [
       "67.0     830\n",
       "68.0     829\n",
       "60.0     817\n",
       "66.0     808\n",
       "65.0     808\n",
       "        ... \n",
       "100.0      2\n",
       "39.0       1\n",
       "38.0       1\n",
       "122.0      1\n",
       "107.0      1\n",
       "Name: TMAX, Length: 66, dtype: int64"
      ]
     },
     "execution_count": 196,
     "metadata": {},
     "output_type": "execute_result"
    }
   ],
   "source": [
    "imp_weather[\"TMAX\"].value_counts()"
   ]
  },
  {
   "cell_type": "code",
   "execution_count": 197,
   "id": "0cb19ffe",
   "metadata": {},
   "outputs": [
    {
     "data": {
      "text/plain": [
       "55.0    1133\n",
       "56.0    1090\n",
       "54.0    1041\n",
       "57.0     978\n",
       "53.0     970\n",
       "52.0     935\n",
       "50.0     911\n",
       "51.0     887\n",
       "58.0     770\n",
       "48.0     733\n",
       "49.0     718\n",
       "47.0     654\n",
       "45.0     609\n",
       "46.0     547\n",
       "59.0     544\n",
       "44.0     520\n",
       "43.0     485\n",
       "42.0     426\n",
       "60.0     416\n",
       "41.0     369\n",
       "40.0     345\n",
       "39.0     263\n",
       "61.0     259\n",
       "38.0     235\n",
       "37.0     190\n",
       "36.0     160\n",
       "62.0     122\n",
       "35.0     117\n",
       "34.0      88\n",
       "63.0      80\n",
       "33.0      65\n",
       "32.0      43\n",
       "31.0      32\n",
       "64.0      20\n",
       "65.0      16\n",
       "30.0      12\n",
       "66.0      11\n",
       "67.0       6\n",
       "28.0       5\n",
       "68.0       4\n",
       "29.0       3\n",
       "27.0       2\n",
       "26.0       2\n",
       "1.0        2\n",
       "7.0        1\n",
       "11.0       1\n",
       "18.0       1\n",
       "69.0       1\n",
       "Name: TMIN, dtype: int64"
      ]
     },
     "execution_count": 197,
     "metadata": {},
     "output_type": "execute_result"
    }
   ],
   "source": [
    "imp_weather[\"TMIN\"].value_counts()"
   ]
  },
  {
   "cell_type": "markdown",
   "id": "d5e3bafc",
   "metadata": {},
   "source": [
    "For the above values, we can conclude that snow fall, snow depth does not have useful data to predict the temperature"
   ]
  },
  {
   "cell_type": "code",
   "execution_count": 198,
   "id": "845e7da4",
   "metadata": {},
   "outputs": [],
   "source": [
    "del imp_weather[\"SNOW\"]\n",
    "del imp_weather[\"SNWD\"]"
   ]
  },
  {
   "cell_type": "code",
   "execution_count": 199,
   "id": "07bf5887",
   "metadata": {},
   "outputs": [
    {
     "data": {
      "text/html": [
       "<div>\n",
       "<style scoped>\n",
       "    .dataframe tbody tr th:only-of-type {\n",
       "        vertical-align: middle;\n",
       "    }\n",
       "\n",
       "    .dataframe tbody tr th {\n",
       "        vertical-align: top;\n",
       "    }\n",
       "\n",
       "    .dataframe thead th {\n",
       "        text-align: right;\n",
       "    }\n",
       "</style>\n",
       "<table border=\"1\" class=\"dataframe\">\n",
       "  <thead>\n",
       "    <tr style=\"text-align: right;\">\n",
       "      <th></th>\n",
       "      <th>PRCP</th>\n",
       "      <th>TMAX</th>\n",
       "      <th>TMIN</th>\n",
       "    </tr>\n",
       "    <tr>\n",
       "      <th>DATE</th>\n",
       "      <th></th>\n",
       "      <th></th>\n",
       "      <th></th>\n",
       "    </tr>\n",
       "  </thead>\n",
       "  <tbody>\n",
       "    <tr>\n",
       "      <th>1983-10-29</th>\n",
       "      <td>NaN</td>\n",
       "      <td>67.0</td>\n",
       "      <td>57.0</td>\n",
       "    </tr>\n",
       "    <tr>\n",
       "      <th>1983-10-30</th>\n",
       "      <td>NaN</td>\n",
       "      <td>70.0</td>\n",
       "      <td>63.0</td>\n",
       "    </tr>\n",
       "    <tr>\n",
       "      <th>1983-10-31</th>\n",
       "      <td>NaN</td>\n",
       "      <td>69.0</td>\n",
       "      <td>61.0</td>\n",
       "    </tr>\n",
       "    <tr>\n",
       "      <th>1983-11-12</th>\n",
       "      <td>NaN</td>\n",
       "      <td>63.0</td>\n",
       "      <td>55.0</td>\n",
       "    </tr>\n",
       "    <tr>\n",
       "      <th>1983-11-13</th>\n",
       "      <td>NaN</td>\n",
       "      <td>60.0</td>\n",
       "      <td>50.0</td>\n",
       "    </tr>\n",
       "    <tr>\n",
       "      <th>...</th>\n",
       "      <td>...</td>\n",
       "      <td>...</td>\n",
       "      <td>...</td>\n",
       "    </tr>\n",
       "    <tr>\n",
       "      <th>2013-12-15</th>\n",
       "      <td>NaN</td>\n",
       "      <td>58.0</td>\n",
       "      <td>33.0</td>\n",
       "    </tr>\n",
       "    <tr>\n",
       "      <th>2016-05-01</th>\n",
       "      <td>NaN</td>\n",
       "      <td>80.0</td>\n",
       "      <td>55.0</td>\n",
       "    </tr>\n",
       "    <tr>\n",
       "      <th>2016-05-02</th>\n",
       "      <td>NaN</td>\n",
       "      <td>68.0</td>\n",
       "      <td>53.0</td>\n",
       "    </tr>\n",
       "    <tr>\n",
       "      <th>2016-05-08</th>\n",
       "      <td>NaN</td>\n",
       "      <td>67.0</td>\n",
       "      <td>56.0</td>\n",
       "    </tr>\n",
       "    <tr>\n",
       "      <th>2017-10-28</th>\n",
       "      <td>NaN</td>\n",
       "      <td>68.0</td>\n",
       "      <td>50.0</td>\n",
       "    </tr>\n",
       "  </tbody>\n",
       "</table>\n",
       "<p>281 rows × 3 columns</p>\n",
       "</div>"
      ],
      "text/plain": [
       "            PRCP  TMAX  TMIN\n",
       "DATE                        \n",
       "1983-10-29   NaN  67.0  57.0\n",
       "1983-10-30   NaN  70.0  63.0\n",
       "1983-10-31   NaN  69.0  61.0\n",
       "1983-11-12   NaN  63.0  55.0\n",
       "1983-11-13   NaN  60.0  50.0\n",
       "...          ...   ...   ...\n",
       "2013-12-15   NaN  58.0  33.0\n",
       "2016-05-01   NaN  80.0  55.0\n",
       "2016-05-02   NaN  68.0  53.0\n",
       "2016-05-08   NaN  67.0  56.0\n",
       "2017-10-28   NaN  68.0  50.0\n",
       "\n",
       "[281 rows x 3 columns]"
      ]
     },
     "execution_count": 199,
     "metadata": {},
     "output_type": "execute_result"
    }
   ],
   "source": [
    "imp_weather[pd.isnull(imp_weather[\"PRCP\"])]"
   ]
  },
  {
   "cell_type": "markdown",
   "id": "cb4f4511",
   "metadata": {},
   "source": [
    "Now filling the fissing value"
   ]
  },
  {
   "cell_type": "code",
   "execution_count": 200,
   "id": "f5ca137a",
   "metadata": {},
   "outputs": [
    {
     "data": {
      "text/plain": [
       "0.00    13640\n",
       "0.01      438\n",
       "0.02      198\n",
       "0.03      122\n",
       "0.04      102\n",
       "        ...  \n",
       "1.29        1\n",
       "1.73        1\n",
       "1.05        1\n",
       "1.38        1\n",
       "1.02        1\n",
       "Name: PRCP, Length: 176, dtype: int64"
      ]
     },
     "execution_count": 200,
     "metadata": {},
     "output_type": "execute_result"
    }
   ],
   "source": [
    "imp_weather[\"PRCP\"].value_counts()"
   ]
  },
  {
   "cell_type": "code",
   "execution_count": 201,
   "id": "ff23f81b",
   "metadata": {},
   "outputs": [],
   "source": [
    "imp_weather[\"PRCP\"] = imp_weather[\"PRCP\"].fillna(0)"
   ]
  },
  {
   "cell_type": "code",
   "execution_count": 202,
   "id": "28226ae9",
   "metadata": {},
   "outputs": [],
   "source": [
    "imp_weather = imp_weather.fillna(method=\"ffill\")"
   ]
  },
  {
   "cell_type": "code",
   "execution_count": 203,
   "id": "4c520934",
   "metadata": {},
   "outputs": [
    {
     "data": {
      "text/plain": [
       "PRCP    0\n",
       "TMAX    0\n",
       "TMIN    0\n",
       "dtype: int64"
      ]
     },
     "execution_count": 203,
     "metadata": {},
     "output_type": "execute_result"
    }
   ],
   "source": [
    "imp_weather.apply(pd.isnull).sum()"
   ]
  },
  {
   "cell_type": "markdown",
   "id": "248cd800",
   "metadata": {},
   "source": [
    "Verifying the data type"
   ]
  },
  {
   "cell_type": "code",
   "execution_count": 204,
   "id": "84f84270",
   "metadata": {},
   "outputs": [
    {
     "data": {
      "text/plain": [
       "PRCP    float64\n",
       "TMAX    float64\n",
       "TMIN    float64\n",
       "dtype: object"
      ]
     },
     "execution_count": 204,
     "metadata": {},
     "output_type": "execute_result"
    }
   ],
   "source": [
    "imp_weather.dtypes"
   ]
  },
  {
   "cell_type": "code",
   "execution_count": 205,
   "id": "34bae9d6",
   "metadata": {},
   "outputs": [],
   "source": [
    "# converting index (DATE) string into date ime index\n",
    "imp_weather.index = pd.to_datetime(imp_weather.index)"
   ]
  },
  {
   "cell_type": "code",
   "execution_count": 206,
   "id": "ad7c8a0c",
   "metadata": {},
   "outputs": [
    {
     "data": {
      "text/plain": [
       "Int64Index([1960, 1960, 1960, 1960, 1960, 1960, 1960, 1960, 1960, 1960,\n",
       "            ...\n",
       "            2021, 2021, 2021, 2021, 2021, 2021, 2021, 2021, 2021, 2021],\n",
       "           dtype='int64', name='DATE', length=16832)"
      ]
     },
     "execution_count": 206,
     "metadata": {},
     "output_type": "execute_result"
    }
   ],
   "source": [
    "imp_weather.index.year"
   ]
  },
  {
   "cell_type": "code",
   "execution_count": 207,
   "id": "7872f765",
   "metadata": {},
   "outputs": [
    {
     "data": {
      "text/plain": [
       "Int64Index([ 1,  2,  3,  4,  5,  6,  7,  8,  9, 10,\n",
       "            ...\n",
       "            22, 23, 24, 25, 26, 27, 28, 29, 30, 31],\n",
       "           dtype='int64', name='DATE', length=16832)"
      ]
     },
     "execution_count": 207,
     "metadata": {},
     "output_type": "execute_result"
    }
   ],
   "source": [
    "imp_weather.index.day"
   ]
  },
  {
   "cell_type": "code",
   "execution_count": 208,
   "id": "e0ec04dd",
   "metadata": {},
   "outputs": [
    {
     "data": {
      "text/plain": [
       "PRCP    0\n",
       "TMAX    0\n",
       "TMIN    0\n",
       "dtype: int64"
      ]
     },
     "execution_count": 208,
     "metadata": {},
     "output_type": "execute_result"
    }
   ],
   "source": [
    "# In our data, we have a value 9999 labelled \n",
    "imp_weather.apply(lambda x:(x==9999).sum())"
   ]
  },
  {
   "cell_type": "markdown",
   "id": "0e913610",
   "metadata": {},
   "source": [
    "But in our important column, we does not have 9999 value as a input"
   ]
  },
  {
   "cell_type": "markdown",
   "id": "3f29d494",
   "metadata": {},
   "source": [
    "Plot"
   ]
  },
  {
   "cell_type": "code",
   "execution_count": 209,
   "id": "9a32e462",
   "metadata": {},
   "outputs": [
    {
     "data": {
      "text/plain": [
       "<AxesSubplot:xlabel='DATE'>"
      ]
     },
     "execution_count": 209,
     "metadata": {},
     "output_type": "execute_result"
    },
    {
     "data": {
      "image/png": "[encoded data removed]",
      "text/plain": [
       "<Figure size 432x288 with 1 Axes>"
      ]
     },
     "metadata": {
      "needs_background": "light"
     },
     "output_type": "display_data"
    }
   ],
   "source": [
    "imp_weather[[\"TMAX\",\"TMIN\"]].plot()"
   ]
  },
  {
   "cell_type": "code",
   "execution_count": 210,
   "id": "39866421",
   "metadata": {},
   "outputs": [
    {
     "data": {
      "text/plain": [
       "<AxesSubplot:xlabel='DATE'>"
      ]
     },
     "execution_count": 210,
     "metadata": {},
     "output_type": "execute_result"
    },
    {
     "data": {
      "image/png": "[encoded data removed]",
      "text/plain": [
       "<Figure size 432x288 with 1 Axes>"
      ]
     },
     "metadata": {
      "needs_background": "light"
     },
     "output_type": "display_data"
    }
   ],
   "source": [
    "imp_weather[\"PRCP\"].plot()"
   ]
  },
  {
   "cell_type": "code",
   "execution_count": 211,
   "id": "c9db0116",
   "metadata": {},
   "outputs": [
    {
     "data": {
      "text/plain": [
       "DATE\n",
       "1960    14.01\n",
       "1961    13.87\n",
       "1962    22.47\n",
       "1963    19.11\n",
       "1964    16.83\n",
       "1965    16.32\n",
       "1966    13.11\n",
       "1967    23.98\n",
       "1968    17.19\n",
       "1969    25.70\n",
       "1970    25.31\n",
       "1971    10.61\n",
       "1972    16.27\n",
       "1973    29.37\n",
       "1974    16.87\n",
       "1975    17.54\n",
       "1976     8.64\n",
       "1977    11.70\n",
       "1978    22.57\n",
       "1979    23.79\n",
       "1980    13.58\n",
       "1983     7.13\n",
       "1984    16.03\n",
       "1985     8.50\n",
       "1986     0.00\n",
       "2000    21.09\n",
       "2001    22.84\n",
       "2002    19.12\n",
       "2003    11.37\n",
       "2004    12.97\n",
       "2005    27.37\n",
       "2006    22.79\n",
       "2007    12.79\n",
       "2008    13.86\n",
       "2009    14.57\n",
       "2010    22.67\n",
       "2011    16.06\n",
       "2012    22.93\n",
       "2013     4.89\n",
       "2014    19.62\n",
       "2015     8.58\n",
       "2016    19.77\n",
       "2017    23.34\n",
       "2018    16.82\n",
       "2019    20.00\n",
       "2020     6.42\n",
       "2021    20.82\n",
       "Name: PRCP, dtype: float64"
      ]
     },
     "execution_count": 211,
     "metadata": {},
     "output_type": "execute_result"
    }
   ],
   "source": [
    "# Yearly precipitation \n",
    "imp_weather.groupby(imp_weather.index.year).sum()[\"PRCP\"]"
   ]
  },
  {
   "cell_type": "markdown",
   "id": "2ae5a06a",
   "metadata": {},
   "source": [
    "To predicit the tommorow weather, we are going to use the previous weather data"
   ]
  },
  {
   "cell_type": "code",
   "execution_count": 212,
   "id": "11a6049f",
   "metadata": {},
   "outputs": [
    {
     "data": {
      "text/html": [
       "<div>\n",
       "<style scoped>\n",
       "    .dataframe tbody tr th:only-of-type {\n",
       "        vertical-align: middle;\n",
       "    }\n",
       "\n",
       "    .dataframe tbody tr th {\n",
       "        vertical-align: top;\n",
       "    }\n",
       "\n",
       "    .dataframe thead th {\n",
       "        text-align: right;\n",
       "    }\n",
       "</style>\n",
       "<table border=\"1\" class=\"dataframe\">\n",
       "  <thead>\n",
       "    <tr style=\"text-align: right;\">\n",
       "      <th></th>\n",
       "      <th>PRCP</th>\n",
       "      <th>TMAX</th>\n",
       "      <th>TMIN</th>\n",
       "      <th>target</th>\n",
       "    </tr>\n",
       "    <tr>\n",
       "      <th>DATE</th>\n",
       "      <th></th>\n",
       "      <th></th>\n",
       "      <th></th>\n",
       "      <th></th>\n",
       "    </tr>\n",
       "  </thead>\n",
       "  <tbody>\n",
       "    <tr>\n",
       "      <th>1960-01-01</th>\n",
       "      <td>0.00</td>\n",
       "      <td>49.0</td>\n",
       "      <td>30.0</td>\n",
       "      <td>49.0</td>\n",
       "    </tr>\n",
       "    <tr>\n",
       "      <th>1960-01-02</th>\n",
       "      <td>0.00</td>\n",
       "      <td>49.0</td>\n",
       "      <td>29.0</td>\n",
       "      <td>54.0</td>\n",
       "    </tr>\n",
       "    <tr>\n",
       "      <th>1960-01-03</th>\n",
       "      <td>0.00</td>\n",
       "      <td>54.0</td>\n",
       "      <td>35.0</td>\n",
       "      <td>54.0</td>\n",
       "    </tr>\n",
       "    <tr>\n",
       "      <th>1960-01-04</th>\n",
       "      <td>0.00</td>\n",
       "      <td>54.0</td>\n",
       "      <td>36.0</td>\n",
       "      <td>55.0</td>\n",
       "    </tr>\n",
       "    <tr>\n",
       "      <th>1960-01-05</th>\n",
       "      <td>0.00</td>\n",
       "      <td>55.0</td>\n",
       "      <td>33.0</td>\n",
       "      <td>53.0</td>\n",
       "    </tr>\n",
       "    <tr>\n",
       "      <th>...</th>\n",
       "      <td>...</td>\n",
       "      <td>...</td>\n",
       "      <td>...</td>\n",
       "      <td>...</td>\n",
       "    </tr>\n",
       "    <tr>\n",
       "      <th>2021-12-26</th>\n",
       "      <td>0.14</td>\n",
       "      <td>51.0</td>\n",
       "      <td>40.0</td>\n",
       "      <td>51.0</td>\n",
       "    </tr>\n",
       "    <tr>\n",
       "      <th>2021-12-27</th>\n",
       "      <td>0.09</td>\n",
       "      <td>51.0</td>\n",
       "      <td>44.0</td>\n",
       "      <td>48.0</td>\n",
       "    </tr>\n",
       "    <tr>\n",
       "      <th>2021-12-28</th>\n",
       "      <td>0.01</td>\n",
       "      <td>48.0</td>\n",
       "      <td>41.0</td>\n",
       "      <td>51.0</td>\n",
       "    </tr>\n",
       "    <tr>\n",
       "      <th>2021-12-29</th>\n",
       "      <td>0.51</td>\n",
       "      <td>51.0</td>\n",
       "      <td>43.0</td>\n",
       "      <td>52.0</td>\n",
       "    </tr>\n",
       "    <tr>\n",
       "      <th>2021-12-30</th>\n",
       "      <td>0.00</td>\n",
       "      <td>52.0</td>\n",
       "      <td>40.0</td>\n",
       "      <td>53.0</td>\n",
       "    </tr>\n",
       "  </tbody>\n",
       "</table>\n",
       "<p>16831 rows × 4 columns</p>\n",
       "</div>"
      ],
      "text/plain": [
       "            PRCP  TMAX  TMIN  target\n",
       "DATE                                \n",
       "1960-01-01  0.00  49.0  30.0    49.0\n",
       "1960-01-02  0.00  49.0  29.0    54.0\n",
       "1960-01-03  0.00  54.0  35.0    54.0\n",
       "1960-01-04  0.00  54.0  36.0    55.0\n",
       "1960-01-05  0.00  55.0  33.0    53.0\n",
       "...          ...   ...   ...     ...\n",
       "2021-12-26  0.14  51.0  40.0    51.0\n",
       "2021-12-27  0.09  51.0  44.0    48.0\n",
       "2021-12-28  0.01  48.0  41.0    51.0\n",
       "2021-12-29  0.51  51.0  43.0    52.0\n",
       "2021-12-30  0.00  52.0  40.0    53.0\n",
       "\n",
       "[16831 rows x 4 columns]"
      ]
     },
     "execution_count": 212,
     "metadata": {},
     "output_type": "execute_result"
    }
   ],
   "source": [
    "imp_weather[\"target\"] = imp_weather.shift(-1)[\"TMAX\"]\n",
    "# deleting the last day data\n",
    "imp_weather = imp_weather.iloc[:-1,:].copy()\n",
    "imp_weather"
   ]
  },
  {
   "cell_type": "markdown",
   "id": "0fcf3140",
   "metadata": {},
   "source": [
    "# Machine learning model"
   ]
  },
  {
   "cell_type": "code",
   "execution_count": 213,
   "id": "43139092",
   "metadata": {},
   "outputs": [],
   "source": [
    "from sklearn.linear_model import Ridge\n",
    "reg= Ridge(alpha=0.1)"
   ]
  },
  {
   "cell_type": "code",
   "execution_count": 214,
   "id": "f71c562f",
   "metadata": {},
   "outputs": [],
   "source": [
    "predictors=[\"PRCP\",\"TMAX\",\"TMIN\"]"
   ]
  },
  {
   "cell_type": "code",
   "execution_count": 215,
   "id": "adb40df9",
   "metadata": {},
   "outputs": [],
   "source": [
    "train = imp_weather.loc[:\"2019-12-31\"]"
   ]
  },
  {
   "cell_type": "code",
   "execution_count": 216,
   "id": "a6af92f3",
   "metadata": {},
   "outputs": [],
   "source": [
    "test = imp_weather.loc[\"2020-01-01\":]"
   ]
  },
  {
   "cell_type": "code",
   "execution_count": 217,
   "id": "63c10d6a",
   "metadata": {},
   "outputs": [
    {
     "data": {
      "text/plain": [
       "Ridge(alpha=0.1)"
      ]
     },
     "execution_count": 217,
     "metadata": {},
     "output_type": "execute_result"
    }
   ],
   "source": [
    "reg.fit(train[predictors],train[\"target\"])"
   ]
  },
  {
   "cell_type": "code",
   "execution_count": 218,
   "id": "2781581b",
   "metadata": {},
   "outputs": [],
   "source": [
    "predictions = reg.predict(test[predictors])"
   ]
  },
  {
   "cell_type": "code",
   "execution_count": 219,
   "id": "ce055602",
   "metadata": {},
   "outputs": [
    {
     "data": {
      "text/plain": [
       "3.571962257147306"
      ]
     },
     "execution_count": 219,
     "metadata": {},
     "output_type": "execute_result"
    }
   ],
   "source": [
    "from sklearn.metrics import mean_absolute_error\n",
    "mean_absolute_error(test[\"target\"],predictions)"
   ]
  },
  {
   "cell_type": "code",
   "execution_count": 220,
   "id": "636847a6",
   "metadata": {},
   "outputs": [
    {
     "data": {
      "text/html": [
       "<div>\n",
       "<style scoped>\n",
       "    .dataframe tbody tr th:only-of-type {\n",
       "        vertical-align: middle;\n",
       "    }\n",
       "\n",
       "    .dataframe tbody tr th {\n",
       "        vertical-align: top;\n",
       "    }\n",
       "\n",
       "    .dataframe thead th {\n",
       "        text-align: right;\n",
       "    }\n",
       "</style>\n",
       "<table border=\"1\" class=\"dataframe\">\n",
       "  <thead>\n",
       "    <tr style=\"text-align: right;\">\n",
       "      <th></th>\n",
       "      <th>Actual</th>\n",
       "      <th>Predictions</th>\n",
       "    </tr>\n",
       "    <tr>\n",
       "      <th>DATE</th>\n",
       "      <th></th>\n",
       "      <th></th>\n",
       "    </tr>\n",
       "  </thead>\n",
       "  <tbody>\n",
       "    <tr>\n",
       "      <th>2020-01-01</th>\n",
       "      <td>60.0</td>\n",
       "      <td>59.969753</td>\n",
       "    </tr>\n",
       "    <tr>\n",
       "      <th>2020-01-02</th>\n",
       "      <td>61.0</td>\n",
       "      <td>60.147971</td>\n",
       "    </tr>\n",
       "    <tr>\n",
       "      <th>2020-01-03</th>\n",
       "      <td>61.0</td>\n",
       "      <td>60.506387</td>\n",
       "    </tr>\n",
       "    <tr>\n",
       "      <th>2020-01-04</th>\n",
       "      <td>60.0</td>\n",
       "      <td>61.205267</td>\n",
       "    </tr>\n",
       "    <tr>\n",
       "      <th>2020-01-05</th>\n",
       "      <td>58.0</td>\n",
       "      <td>59.427175</td>\n",
       "    </tr>\n",
       "    <tr>\n",
       "      <th>...</th>\n",
       "      <td>...</td>\n",
       "      <td>...</td>\n",
       "    </tr>\n",
       "    <tr>\n",
       "      <th>2021-12-26</th>\n",
       "      <td>51.0</td>\n",
       "      <td>53.011436</td>\n",
       "    </tr>\n",
       "    <tr>\n",
       "      <th>2021-12-27</th>\n",
       "      <td>48.0</td>\n",
       "      <td>53.841807</td>\n",
       "    </tr>\n",
       "    <tr>\n",
       "      <th>2021-12-28</th>\n",
       "      <td>51.0</td>\n",
       "      <td>51.320088</td>\n",
       "    </tr>\n",
       "    <tr>\n",
       "      <th>2021-12-29</th>\n",
       "      <td>52.0</td>\n",
       "      <td>52.741178</td>\n",
       "    </tr>\n",
       "    <tr>\n",
       "      <th>2021-12-30</th>\n",
       "      <td>53.0</td>\n",
       "      <td>54.037061</td>\n",
       "    </tr>\n",
       "  </tbody>\n",
       "</table>\n",
       "<p>730 rows × 2 columns</p>\n",
       "</div>"
      ],
      "text/plain": [
       "            Actual  Predictions\n",
       "DATE                           \n",
       "2020-01-01    60.0    59.969753\n",
       "2020-01-02    61.0    60.147971\n",
       "2020-01-03    61.0    60.506387\n",
       "2020-01-04    60.0    61.205267\n",
       "2020-01-05    58.0    59.427175\n",
       "...            ...          ...\n",
       "2021-12-26    51.0    53.011436\n",
       "2021-12-27    48.0    53.841807\n",
       "2021-12-28    51.0    51.320088\n",
       "2021-12-29    52.0    52.741178\n",
       "2021-12-30    53.0    54.037061\n",
       "\n",
       "[730 rows x 2 columns]"
      ]
     },
     "execution_count": 220,
     "metadata": {},
     "output_type": "execute_result"
    }
   ],
   "source": [
    "diff = pd.concat([test[\"target\"], pd.Series(predictions, index=test.index)], axis=1)\n",
    "diff.columns = ['Actual', 'Predictions']\n",
    "diff"
   ]
  },
  {
   "cell_type": "code",
   "execution_count": 221,
   "id": "073c1c28",
   "metadata": {},
   "outputs": [
    {
     "data": {
      "text/plain": [
       "<AxesSubplot:xlabel='DATE'>"
      ]
     },
     "execution_count": 221,
     "metadata": {},
     "output_type": "execute_result"
    },
    {
     "data": {
      "image/png": "[encoded data removed]",
      "text/plain": [
       "<Figure size 432x288 with 1 Axes>"
      ]
     },
     "metadata": {
      "needs_background": "light"
     },
     "output_type": "display_data"
    }
   ],
   "source": [
    "diff.plot()"
   ]
  },
  {
   "cell_type": "code",
   "execution_count": 222,
   "id": "79f5fac7",
   "metadata": {},
   "outputs": [],
   "source": [
    "def create_predictions(predictors, imp_weather, reg):\n",
    "    train = imp_weather.loc[:\"2019-12-31\"]\n",
    "    test = imp_weather.loc[\"2020-01-01\":]\n",
    "    \n",
    "    reg.fit(train[predictors], train[\"target\"])\n",
    "    predictions = reg.predict(test[predictors])\n",
    "    \n",
    "    error = mean_absolute_error(test[\"target\"],predictions)\n",
    "    \n",
    "    diff = pd.concat([test[\"target\"], pd.Series(predictions, index=test.index)], axis=1)\n",
    "    diff.columns = ['Actual', 'Predictions']\n",
    "    \n",
    "    return error, diff"
   ]
  },
  {
   "cell_type": "code",
   "execution_count": 223,
   "id": "dde2275a",
   "metadata": {},
   "outputs": [
    {
     "data": {
      "text/plain": [
       "array([-2.19150077,  0.71881402,  0.18019893])"
      ]
     },
     "execution_count": 223,
     "metadata": {},
     "output_type": "execute_result"
    }
   ],
   "source": [
    "reg.coef_"
   ]
  },
  {
   "cell_type": "code",
   "execution_count": 224,
   "id": "ce9c23f5",
   "metadata": {},
   "outputs": [
    {
     "data": {
      "text/html": [
       "<div>\n",
       "<style scoped>\n",
       "    .dataframe tbody tr th:only-of-type {\n",
       "        vertical-align: middle;\n",
       "    }\n",
       "\n",
       "    .dataframe tbody tr th {\n",
       "        vertical-align: top;\n",
       "    }\n",
       "\n",
       "    .dataframe thead th {\n",
       "        text-align: right;\n",
       "    }\n",
       "</style>\n",
       "<table border=\"1\" class=\"dataframe\">\n",
       "  <thead>\n",
       "    <tr style=\"text-align: right;\">\n",
       "      <th></th>\n",
       "      <th>PRCP</th>\n",
       "      <th>TMAX</th>\n",
       "      <th>TMIN</th>\n",
       "      <th>target</th>\n",
       "      <th>month_max</th>\n",
       "      <th>month_day_max</th>\n",
       "      <th>max_min</th>\n",
       "    </tr>\n",
       "    <tr>\n",
       "      <th>DATE</th>\n",
       "      <th></th>\n",
       "      <th></th>\n",
       "      <th></th>\n",
       "      <th></th>\n",
       "      <th></th>\n",
       "      <th></th>\n",
       "      <th></th>\n",
       "    </tr>\n",
       "  </thead>\n",
       "  <tbody>\n",
       "    <tr>\n",
       "      <th>1960-01-01</th>\n",
       "      <td>0.00</td>\n",
       "      <td>49.0</td>\n",
       "      <td>30.0</td>\n",
       "      <td>49.0</td>\n",
       "      <td>NaN</td>\n",
       "      <td>NaN</td>\n",
       "      <td>1.633333</td>\n",
       "    </tr>\n",
       "    <tr>\n",
       "      <th>1960-01-02</th>\n",
       "      <td>0.00</td>\n",
       "      <td>49.0</td>\n",
       "      <td>29.0</td>\n",
       "      <td>54.0</td>\n",
       "      <td>NaN</td>\n",
       "      <td>NaN</td>\n",
       "      <td>1.689655</td>\n",
       "    </tr>\n",
       "    <tr>\n",
       "      <th>1960-01-03</th>\n",
       "      <td>0.00</td>\n",
       "      <td>54.0</td>\n",
       "      <td>35.0</td>\n",
       "      <td>54.0</td>\n",
       "      <td>NaN</td>\n",
       "      <td>NaN</td>\n",
       "      <td>1.542857</td>\n",
       "    </tr>\n",
       "    <tr>\n",
       "      <th>1960-01-04</th>\n",
       "      <td>0.00</td>\n",
       "      <td>54.0</td>\n",
       "      <td>36.0</td>\n",
       "      <td>55.0</td>\n",
       "      <td>NaN</td>\n",
       "      <td>NaN</td>\n",
       "      <td>1.500000</td>\n",
       "    </tr>\n",
       "    <tr>\n",
       "      <th>1960-01-05</th>\n",
       "      <td>0.00</td>\n",
       "      <td>55.0</td>\n",
       "      <td>33.0</td>\n",
       "      <td>53.0</td>\n",
       "      <td>NaN</td>\n",
       "      <td>NaN</td>\n",
       "      <td>1.666667</td>\n",
       "    </tr>\n",
       "    <tr>\n",
       "      <th>...</th>\n",
       "      <td>...</td>\n",
       "      <td>...</td>\n",
       "      <td>...</td>\n",
       "      <td>...</td>\n",
       "      <td>...</td>\n",
       "      <td>...</td>\n",
       "      <td>...</td>\n",
       "    </tr>\n",
       "    <tr>\n",
       "      <th>2021-12-26</th>\n",
       "      <td>0.14</td>\n",
       "      <td>51.0</td>\n",
       "      <td>40.0</td>\n",
       "      <td>51.0</td>\n",
       "      <td>57.633333</td>\n",
       "      <td>1.130065</td>\n",
       "      <td>1.275000</td>\n",
       "    </tr>\n",
       "    <tr>\n",
       "      <th>2021-12-27</th>\n",
       "      <td>0.09</td>\n",
       "      <td>51.0</td>\n",
       "      <td>44.0</td>\n",
       "      <td>48.0</td>\n",
       "      <td>57.066667</td>\n",
       "      <td>1.118954</td>\n",
       "      <td>1.159091</td>\n",
       "    </tr>\n",
       "    <tr>\n",
       "      <th>2021-12-28</th>\n",
       "      <td>0.01</td>\n",
       "      <td>48.0</td>\n",
       "      <td>41.0</td>\n",
       "      <td>51.0</td>\n",
       "      <td>56.400000</td>\n",
       "      <td>1.175000</td>\n",
       "      <td>1.170732</td>\n",
       "    </tr>\n",
       "    <tr>\n",
       "      <th>2021-12-29</th>\n",
       "      <td>0.51</td>\n",
       "      <td>51.0</td>\n",
       "      <td>43.0</td>\n",
       "      <td>52.0</td>\n",
       "      <td>55.833333</td>\n",
       "      <td>1.094771</td>\n",
       "      <td>1.186047</td>\n",
       "    </tr>\n",
       "    <tr>\n",
       "      <th>2021-12-30</th>\n",
       "      <td>0.00</td>\n",
       "      <td>52.0</td>\n",
       "      <td>40.0</td>\n",
       "      <td>53.0</td>\n",
       "      <td>55.266667</td>\n",
       "      <td>1.062821</td>\n",
       "      <td>1.300000</td>\n",
       "    </tr>\n",
       "  </tbody>\n",
       "</table>\n",
       "<p>16831 rows × 7 columns</p>\n",
       "</div>"
      ],
      "text/plain": [
       "            PRCP  TMAX  TMIN  target  month_max  month_day_max   max_min\n",
       "DATE                                                                    \n",
       "1960-01-01  0.00  49.0  30.0    49.0        NaN            NaN  1.633333\n",
       "1960-01-02  0.00  49.0  29.0    54.0        NaN            NaN  1.689655\n",
       "1960-01-03  0.00  54.0  35.0    54.0        NaN            NaN  1.542857\n",
       "1960-01-04  0.00  54.0  36.0    55.0        NaN            NaN  1.500000\n",
       "1960-01-05  0.00  55.0  33.0    53.0        NaN            NaN  1.666667\n",
       "...          ...   ...   ...     ...        ...            ...       ...\n",
       "2021-12-26  0.14  51.0  40.0    51.0  57.633333       1.130065  1.275000\n",
       "2021-12-27  0.09  51.0  44.0    48.0  57.066667       1.118954  1.159091\n",
       "2021-12-28  0.01  48.0  41.0    51.0  56.400000       1.175000  1.170732\n",
       "2021-12-29  0.51  51.0  43.0    52.0  55.833333       1.094771  1.186047\n",
       "2021-12-30  0.00  52.0  40.0    53.0  55.266667       1.062821  1.300000\n",
       "\n",
       "[16831 rows x 7 columns]"
      ]
     },
     "execution_count": 224,
     "metadata": {},
     "output_type": "execute_result"
    }
   ],
   "source": [
    "imp_weather[\"month_max\"] = imp_weather[\"TMAX\"].rolling(30).mean()\n",
    "imp_weather[\"month_day_max\"] = imp_weather[\"month_max\"] / imp_weather[\"TMAX\"]\n",
    "imp_weather[\"max_min\"] = imp_weather[\"TMAX\"] / imp_weather[\"TMIN\"]\n",
    "imp_weather"
   ]
  },
  {
   "cell_type": "code",
   "execution_count": 225,
   "id": "f35209f5",
   "metadata": {},
   "outputs": [],
   "source": [
    "# To remove the NaN values \n",
    "imp_weather = imp_weather.iloc[30:,:].copy()"
   ]
  },
  {
   "cell_type": "code",
   "execution_count": 226,
   "id": "62c973e4",
   "metadata": {},
   "outputs": [],
   "source": [
    "def create_predictions(predictors, imp_weather, reg):\n",
    "    train = imp_weather.loc[:\"2019-12-31\"]\n",
    "    test = imp_weather.loc[\"2020-01-01\":]\n",
    "    \n",
    "    reg.fit(train[predictors], train[\"target\"])\n",
    "    predictions = reg.predict(test[predictors])\n",
    "    \n",
    "    error = mean_absolute_error(test[\"target\"],predictions)\n",
    "    \n",
    "    diff = pd.concat([test[\"target\"], pd.Series(predictions, index=test.index)], axis=1)\n",
    "    diff.columns = ['Actual', 'Predictions']\n",
    "    \n",
    "    return error, diff"
   ]
  },
  {
   "cell_type": "code",
   "execution_count": 227,
   "id": "a05976c0",
   "metadata": {},
   "outputs": [
    {
     "data": {
      "text/plain": [
       "3.5109422226613503"
      ]
     },
     "execution_count": 227,
     "metadata": {},
     "output_type": "execute_result"
    }
   ],
   "source": [
    "predictors = [\"PRCP\",\"TMAX\",\"TMIN\",\"month_day_max\",\"max_min\"]\n",
    "error, diff = create_predictions(predictors, imp_weather, reg)\n",
    "error"
   ]
  },
  {
   "cell_type": "code",
   "execution_count": 228,
   "id": "6abb8bc6",
   "metadata": {},
   "outputs": [],
   "source": [
    "imp_weather[\"monthly_avg\"] = imp_weather[\"TMAX\"].groupby(imp_weather.index.month).apply(lambda x: x.expanding(1).mean())\n",
    "imp_weather[\"day_of_year_avg\"] = imp_weather[\"TMAX\"].groupby(imp_weather.index.day_of_year).apply(lambda x: x.expanding(1).mean())"
   ]
  },
  {
   "cell_type": "code",
   "execution_count": 229,
   "id": "c19a9409",
   "metadata": {},
   "outputs": [
    {
     "data": {
      "text/plain": [
       "3.535902342478661"
      ]
     },
     "execution_count": 229,
     "metadata": {},
     "output_type": "execute_result"
    }
   ],
   "source": [
    "error, diff = create_predictions(predictors + [\"monthly_avg\",\"day_of_year_avg\"],imp_weather,reg)\n",
    "error"
   ]
  },
  {
   "cell_type": "code",
   "execution_count": 230,
   "id": "caa074fb",
   "metadata": {},
   "outputs": [
    {
     "data": {
      "text/plain": [
       "array([-1.05031502,  0.68145327,  0.04687414,  4.1626077 ,  0.07076234,\n",
       "        0.16833082,  0.09082604])"
      ]
     },
     "execution_count": 230,
     "metadata": {},
     "output_type": "execute_result"
    }
   ],
   "source": [
    "reg.coef_"
   ]
  },
  {
   "cell_type": "code",
   "execution_count": 231,
   "id": "898b2b8c",
   "metadata": {
    "scrolled": true
   },
   "outputs": [
    {
     "data": {
      "text/plain": [
       "PRCP              -0.205812\n",
       "TMAX               0.821577\n",
       "TMIN               0.595814\n",
       "target             1.000000\n",
       "month_max          0.686684\n",
       "month_day_max     -0.422837\n",
       "max_min            0.045348\n",
       "monthly_avg        0.689588\n",
       "day_of_year_avg    0.712103\n",
       "Name: target, dtype: float64"
      ]
     },
     "execution_count": 231,
     "metadata": {},
     "output_type": "execute_result"
    }
   ],
   "source": [
    "imp_weather.corr()[\"target\"]"
   ]
  },
  {
   "cell_type": "code",
   "execution_count": 232,
   "id": "faf18f4c",
   "metadata": {},
   "outputs": [
    {
     "data": {
      "text/html": [
       "<div>\n",
       "<style scoped>\n",
       "    .dataframe tbody tr th:only-of-type {\n",
       "        vertical-align: middle;\n",
       "    }\n",
       "\n",
       "    .dataframe tbody tr th {\n",
       "        vertical-align: top;\n",
       "    }\n",
       "\n",
       "    .dataframe thead th {\n",
       "        text-align: right;\n",
       "    }\n",
       "</style>\n",
       "<table border=\"1\" class=\"dataframe\">\n",
       "  <thead>\n",
       "    <tr style=\"text-align: right;\">\n",
       "      <th></th>\n",
       "      <th>Actual</th>\n",
       "      <th>Predictions</th>\n",
       "    </tr>\n",
       "    <tr>\n",
       "      <th>DATE</th>\n",
       "      <th></th>\n",
       "      <th></th>\n",
       "    </tr>\n",
       "  </thead>\n",
       "  <tbody>\n",
       "    <tr>\n",
       "      <th>2020-01-01</th>\n",
       "      <td>60.0</td>\n",
       "      <td>58.611822</td>\n",
       "    </tr>\n",
       "    <tr>\n",
       "      <th>2020-01-02</th>\n",
       "      <td>61.0</td>\n",
       "      <td>59.033842</td>\n",
       "    </tr>\n",
       "    <tr>\n",
       "      <th>2020-01-03</th>\n",
       "      <td>61.0</td>\n",
       "      <td>59.600821</td>\n",
       "    </tr>\n",
       "    <tr>\n",
       "      <th>2020-01-04</th>\n",
       "      <td>60.0</td>\n",
       "      <td>59.818312</td>\n",
       "    </tr>\n",
       "    <tr>\n",
       "      <th>2020-01-05</th>\n",
       "      <td>58.0</td>\n",
       "      <td>58.930031</td>\n",
       "    </tr>\n",
       "    <tr>\n",
       "      <th>...</th>\n",
       "      <td>...</td>\n",
       "      <td>...</td>\n",
       "    </tr>\n",
       "    <tr>\n",
       "      <th>2021-12-26</th>\n",
       "      <td>51.0</td>\n",
       "      <td>53.321960</td>\n",
       "    </tr>\n",
       "    <tr>\n",
       "      <th>2021-12-27</th>\n",
       "      <td>48.0</td>\n",
       "      <td>53.481177</td>\n",
       "    </tr>\n",
       "    <tr>\n",
       "      <th>2021-12-28</th>\n",
       "      <td>51.0</td>\n",
       "      <td>51.625160</td>\n",
       "    </tr>\n",
       "    <tr>\n",
       "      <th>2021-12-29</th>\n",
       "      <td>52.0</td>\n",
       "      <td>52.948000</td>\n",
       "    </tr>\n",
       "    <tr>\n",
       "      <th>2021-12-30</th>\n",
       "      <td>53.0</td>\n",
       "      <td>53.857540</td>\n",
       "    </tr>\n",
       "  </tbody>\n",
       "</table>\n",
       "<p>730 rows × 2 columns</p>\n",
       "</div>"
      ],
      "text/plain": [
       "            Actual  Predictions\n",
       "DATE                           \n",
       "2020-01-01    60.0    58.611822\n",
       "2020-01-02    61.0    59.033842\n",
       "2020-01-03    61.0    59.600821\n",
       "2020-01-04    60.0    59.818312\n",
       "2020-01-05    58.0    58.930031\n",
       "...            ...          ...\n",
       "2021-12-26    51.0    53.321960\n",
       "2021-12-27    48.0    53.481177\n",
       "2021-12-28    51.0    51.625160\n",
       "2021-12-29    52.0    52.948000\n",
       "2021-12-30    53.0    53.857540\n",
       "\n",
       "[730 rows x 2 columns]"
      ]
     },
     "execution_count": 232,
     "metadata": {},
     "output_type": "execute_result"
    }
   ],
   "source": [
    "diff"
   ]
  },
  {
   "cell_type": "code",
   "execution_count": 233,
   "id": "2e841b03",
   "metadata": {},
   "outputs": [],
   "source": [
    "diff[\"difference\"] = (diff[\"Actual\"] - diff[\"Predictions\"]).abs()"
   ]
  },
  {
   "cell_type": "code",
   "execution_count": 236,
   "id": "42e4af78",
   "metadata": {},
   "outputs": [
    {
     "data": {
      "text/html": [
       "<div>\n",
       "<style scoped>\n",
       "    .dataframe tbody tr th:only-of-type {\n",
       "        vertical-align: middle;\n",
       "    }\n",
       "\n",
       "    .dataframe tbody tr th {\n",
       "        vertical-align: top;\n",
       "    }\n",
       "\n",
       "    .dataframe thead th {\n",
       "        text-align: right;\n",
       "    }\n",
       "</style>\n",
       "<table border=\"1\" class=\"dataframe\">\n",
       "  <thead>\n",
       "    <tr style=\"text-align: right;\">\n",
       "      <th></th>\n",
       "      <th>Actual</th>\n",
       "      <th>Predictions</th>\n",
       "      <th>difference</th>\n",
       "    </tr>\n",
       "    <tr>\n",
       "      <th>DATE</th>\n",
       "      <th></th>\n",
       "      <th></th>\n",
       "      <th></th>\n",
       "    </tr>\n",
       "  </thead>\n",
       "  <tbody>\n",
       "    <tr>\n",
       "      <th>2020-01-01</th>\n",
       "      <td>60.0</td>\n",
       "      <td>58.611822</td>\n",
       "      <td>1.388178</td>\n",
       "    </tr>\n",
       "    <tr>\n",
       "      <th>2020-01-02</th>\n",
       "      <td>61.0</td>\n",
       "      <td>59.033842</td>\n",
       "      <td>1.966158</td>\n",
       "    </tr>\n",
       "    <tr>\n",
       "      <th>2020-01-03</th>\n",
       "      <td>61.0</td>\n",
       "      <td>59.600821</td>\n",
       "      <td>1.399179</td>\n",
       "    </tr>\n",
       "    <tr>\n",
       "      <th>2020-01-04</th>\n",
       "      <td>60.0</td>\n",
       "      <td>59.818312</td>\n",
       "      <td>0.181688</td>\n",
       "    </tr>\n",
       "    <tr>\n",
       "      <th>2020-01-05</th>\n",
       "      <td>58.0</td>\n",
       "      <td>58.930031</td>\n",
       "      <td>0.930031</td>\n",
       "    </tr>\n",
       "    <tr>\n",
       "      <th>...</th>\n",
       "      <td>...</td>\n",
       "      <td>...</td>\n",
       "      <td>...</td>\n",
       "    </tr>\n",
       "    <tr>\n",
       "      <th>2021-12-26</th>\n",
       "      <td>51.0</td>\n",
       "      <td>53.321960</td>\n",
       "      <td>2.321960</td>\n",
       "    </tr>\n",
       "    <tr>\n",
       "      <th>2021-12-27</th>\n",
       "      <td>48.0</td>\n",
       "      <td>53.481177</td>\n",
       "      <td>5.481177</td>\n",
       "    </tr>\n",
       "    <tr>\n",
       "      <th>2021-12-28</th>\n",
       "      <td>51.0</td>\n",
       "      <td>51.625160</td>\n",
       "      <td>0.625160</td>\n",
       "    </tr>\n",
       "    <tr>\n",
       "      <th>2021-12-29</th>\n",
       "      <td>52.0</td>\n",
       "      <td>52.948000</td>\n",
       "      <td>0.948000</td>\n",
       "    </tr>\n",
       "    <tr>\n",
       "      <th>2021-12-30</th>\n",
       "      <td>53.0</td>\n",
       "      <td>53.857540</td>\n",
       "      <td>0.857540</td>\n",
       "    </tr>\n",
       "  </tbody>\n",
       "</table>\n",
       "<p>730 rows × 3 columns</p>\n",
       "</div>"
      ],
      "text/plain": [
       "            Actual  Predictions  difference\n",
       "DATE                                       \n",
       "2020-01-01    60.0    58.611822    1.388178\n",
       "2020-01-02    61.0    59.033842    1.966158\n",
       "2020-01-03    61.0    59.600821    1.399179\n",
       "2020-01-04    60.0    59.818312    0.181688\n",
       "2020-01-05    58.0    58.930031    0.930031\n",
       "...            ...          ...         ...\n",
       "2021-12-26    51.0    53.321960    2.321960\n",
       "2021-12-27    48.0    53.481177    5.481177\n",
       "2021-12-28    51.0    51.625160    0.625160\n",
       "2021-12-29    52.0    52.948000    0.948000\n",
       "2021-12-30    53.0    53.857540    0.857540\n",
       "\n",
       "[730 rows x 3 columns]"
      ]
     },
     "execution_count": 236,
     "metadata": {},
     "output_type": "execute_result"
    }
   ],
   "source": [
    "diff"
   ]
  },
  {
   "cell_type": "code",
   "execution_count": null,
   "id": "05b8014c",
   "metadata": {},
   "outputs": [],
   "source": []
  }
 ],
 "metadata": {
  "kernelspec": {
   "display_name": "Python 3 (ipykernel)",
   "language": "python",
   "name": "python3"
  },
  "language_info": {
   "codemirror_mode": {
    "name": "ipython",
    "version": 3
   },
   "file_extension": ".py",
   "mimetype": "text/x-python",
   "name": "python",
   "nbconvert_exporter": "python",
   "pygments_lexer": "ipython3",
   "version": "3.9.12"
  }
 },
 "nbformat": 4,
 "nbformat_minor": 5
}
